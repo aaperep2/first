{
 "cells": [
  {
   "cell_type": "code",
   "execution_count": 102,
   "metadata": {
    "collapsed": false
   },
   "outputs": [
    {
     "name": "stdout",
     "output_type": "stream",
     "text": [
      "Здравствуй дивный, новый мир!\n"
     ]
    }
   ],
   "source": [
    "print 'Здравствуй дивный, новый мир!'"
   ]
  },
  {
   "cell_type": "markdown",
   "metadata": {},
   "source": [
    "Это курс мне жизненно необходим:\n",
    "- Для автоматизации процесса создания схем\n",
    "- Для разработки сервиса учета клиентов с нецелевыми методами получения услуг\n",
    "- Для анализа баз данных по выбранным параметрам, создания инфографики"
   ]
  },
  {
   "cell_type": "code",
   "execution_count": 103,
   "metadata": {
    "collapsed": false,
    "scrolled": true
   },
   "outputs": [
    {
     "name": "stdout",
     "output_type": "stream",
     "text": [
      "97969.1416603\n"
     ]
    }
   ],
   "source": [
    "print ((200000.0 * ((1 + (8.0 / (100 * 12))) ** (12 * 5))) - 200000.0)"
   ]
  },
  {
   "cell_type": "code",
   "execution_count": 104,
   "metadata": {
    "collapsed": false
   },
   "outputs": [
    {
     "name": "stdout",
     "output_type": "stream",
     "text": [
      "97969.1416603\n"
     ]
    }
   ],
   "source": [
    "p = 8.0\n",
    "f = 12\n",
    "S = 200000.0\n",
    "L = 5\n",
    "G = (S * ((1 + (p / (100 * f))) ** (f * L))) - S\n",
    "print (G)"
   ]
  },
  {
   "cell_type": "code",
   "execution_count": 105,
   "metadata": {
    "collapsed": false
   },
   "outputs": [
    {
     "name": "stdout",
     "output_type": "stream",
     "text": [
      "93865.61536\n"
     ]
    }
   ],
   "source": [
    "p = 8.0\n",
    "f = 1\n",
    "S = 200000.0\n",
    "L = 5\n",
    "G = (S * ((1 + (p / (100 * f))) ** (f * L))) - S\n",
    "print (G)"
   ]
  },
  {
   "cell_type": "code",
   "execution_count": 106,
   "metadata": {
    "collapsed": false
   },
   "outputs": [
    {
     "name": "stdout",
     "output_type": "stream",
     "text": [
      "Введите процентную ставку\n",
      "8\n",
      "Введите сколько раз в год происходит капитализация\n",
      "1\n",
      "Введите сумму вклада\n",
      "200000\n",
      "Введите количество лет\n",
      "5\n",
      "Ваш доход\n",
      "93865.61536\n"
     ]
    }
   ],
   "source": [
    "print 'Введите процентную ставку'\n",
    "p = float (input ())\n",
    "print 'Введите сколько раз в год происходит капитализация'\n",
    "f = input ()\n",
    "print 'Введите сумму вклада'\n",
    "S = float (input ())\n",
    "print 'Введите количество лет'\n",
    "L = input ()\n",
    "g = (S * ((1 + (p / (100 * f))) ** (f * L))) - S\n",
    "print 'Ваш доход'\n",
    "print (g)"
   ]
  }
 ],
 "metadata": {
  "kernelspec": {
   "display_name": "Python 2",
   "language": "python",
   "name": "python2"
  },
  "language_info": {
   "codemirror_mode": {
    "name": "ipython",
    "version": 2
   },
   "file_extension": ".py",
   "mimetype": "text/x-python",
   "name": "python",
   "nbconvert_exporter": "python",
   "pygments_lexer": "ipython2",
   "version": "2.7.13"
  }
 },
 "nbformat": 4,
 "nbformat_minor": 2
}
